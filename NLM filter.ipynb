{
 "cells": [
  {
   "cell_type": "code",
   "execution_count": 1,
   "id": "78f19daa",
   "metadata": {},
   "outputs": [
    {
     "name": "stdout",
     "output_type": "stream",
     "text": [
      "Noise removal and NLM Filter completed for all classes and splits.\n"
     ]
    }
   ],
   "source": [
    "import os\n",
    "import cv2\n",
    "\n",
    "# List of classes from the Herlev dataset\n",
    "classes = [\n",
    "    'carcinoma_in_situ',\n",
    "    'light_dysplastic',\n",
    "    'moderate_dysplastic',\n",
    "    'normal_columnar',\n",
    "    'normal_intermediate',\n",
    "    'normal_superficiel',\n",
    "    'severe_dysplastic'\n",
    "]\n",
    "\n",
    "# Define the NLM filter function\n",
    "def nlm_filter(image):\n",
    "    filtered_image = cv2.fastNlMeansDenoisingColored(image, None, 10, 10, 7, 21)  # Adjust parameters as needed\n",
    "    return filtered_image\n",
    "\n",
    "# Base directories for the dataset\n",
    "base_dir = 'Herlev dataset'\n",
    "output_base_dir = 'NLM Filters'\n",
    "\n",
    "# Iterate over each class and each dataset split\n",
    "for split in ['test', 'train']:\n",
    "    for cls in classes:\n",
    "        # Define the input and output directories\n",
    "        dataset_dir = os.path.join(base_dir, split, cls)\n",
    "        output_dir = os.path.join(output_base_dir, split, f'{cls}_filtered_nlm')\n",
    "        os.makedirs(output_dir, exist_ok=True)\n",
    "\n",
    "        # List all image files in the dataset directory\n",
    "        image_files = [os.path.join(dataset_dir, filename) for filename in os.listdir(dataset_dir) if filename.lower().endswith('.bmp')]\n",
    "\n",
    "        # Apply NLM filtering to each image, convert to PNG, and save the filtered images\n",
    "        for image_file in image_files:\n",
    "            # Load the image using OpenCV\n",
    "            image = cv2.imread(image_file)\n",
    "\n",
    "            # Convert the image to RGB (OpenCV reads images in BGR format)\n",
    "            image_rgb = cv2.cvtColor(image, cv2.COLOR_BGR2RGB)\n",
    "\n",
    "            # Apply NLM filtering\n",
    "            filtered_image = nlm_filter(image_rgb)\n",
    "\n",
    "            # Get the file name without extension\n",
    "            filename = os.path.splitext(os.path.basename(image_file))[0]\n",
    "\n",
    "            # Save the filtered image as PNG format\n",
    "            output_file = os.path.join(output_dir, f'{filename}_filtered.png')\n",
    "            cv2.imwrite(output_file, filtered_image)\n",
    "\n",
    "print(\"Noise removal and NLM Filter completed for all classes and splits.\")"
   ]
  }
 ],
 "metadata": {
  "kernelspec": {
   "display_name": "base",
   "language": "python",
   "name": "python3"
  },
  "language_info": {
   "codemirror_mode": {
    "name": "ipython",
    "version": 3
   },
   "file_extension": ".py",
   "mimetype": "text/x-python",
   "name": "python",
   "nbconvert_exporter": "python",
   "pygments_lexer": "ipython3",
   "version": "3.11.5"
  }
 },
 "nbformat": 4,
 "nbformat_minor": 5
}
