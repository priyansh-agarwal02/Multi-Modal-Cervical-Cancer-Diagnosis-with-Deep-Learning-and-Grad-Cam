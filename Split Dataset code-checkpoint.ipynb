{
 "cells": [
  {
   "cell_type": "code",
   "execution_count": 3,
   "id": "b16cda56",
   "metadata": {},
   "outputs": [
    {
     "name": "stdout",
     "output_type": "stream",
     "text": [
      "Dataset split into train, validation, and test sets in Filtered_DATASET.\n"
     ]
    }
   ],
   "source": [
    "import os\n",
    "import shutil\n",
    "import random\n",
    "\n",
    "# Set your data directory\n",
    "data_dir = 'NLM augmentation Combined'  # Path to your dataset\n",
    "\n",
    "# Define the directory names for the splits\n",
    "filtered_dataset_dir = 'Filtered_DATASET'\n",
    "train_dir = os.path.join(filtered_dataset_dir, 'train')\n",
    "val_dir = os.path.join(filtered_dataset_dir, 'validation')\n",
    "test_dir = os.path.join(filtered_dataset_dir, 'test')\n",
    "\n",
    "# Create the directories if they don't exist\n",
    "os.makedirs(train_dir, exist_ok=True)\n",
    "os.makedirs(val_dir, exist_ok=True)\n",
    "os.makedirs(test_dir, exist_ok=True)\n",
    "\n",
    "# Define the ratio for splitting (e.g., 70% train, 15% validation, 15% test)\n",
    "train_ratio = 0.7\n",
    "val_ratio = 0.15\n",
    "test_ratio = 0.15\n",
    "\n",
    "# Loop through each class in the dataset\n",
    "for split in ['train', 'test']:\n",
    "    split_dir = os.path.join(data_dir, split)\n",
    "    for class_name in os.listdir(split_dir):\n",
    "        class_dir = os.path.join(split_dir, class_name)\n",
    "        if os.path.isdir(class_dir):\n",
    "            # List all the files in the class directory\n",
    "            files = os.listdir(class_dir)\n",
    "            random.shuffle(files)  # Shuffle the files\n",
    "            \n",
    "            num_files = len(files)\n",
    "            \n",
    "            # Calculate the number of samples for each split\n",
    "            num_train = int(train_ratio * num_files)\n",
    "            num_val = int(val_ratio * num_files)\n",
    "            num_test = num_files - num_train - num_val\n",
    "            \n",
    "            # Create subdirectories for each split\n",
    "            class_train_dir = os.path.join(train_dir, class_name)\n",
    "            class_val_dir = os.path.join(val_dir, class_name)\n",
    "            class_test_dir = os.path.join(test_dir, class_name)\n",
    "            \n",
    "            os.makedirs(class_train_dir, exist_ok=True)\n",
    "            os.makedirs(class_val_dir, exist_ok=True)\n",
    "            os.makedirs(class_test_dir, exist_ok=True)\n",
    "            \n",
    "            # Copy files to respective splits\n",
    "            for i, file in enumerate(files):\n",
    "                src_path = os.path.join(class_dir, file)\n",
    "                if i < num_train:\n",
    "                    dst_path = os.path.join(class_train_dir, file)\n",
    "                elif i < num_train + num_val:\n",
    "                    dst_path = os.path.join(class_val_dir, file)\n",
    "                else:\n",
    "                    dst_path = os.path.join(class_test_dir, file)\n",
    "                \n",
    "                shutil.copy(src_path, dst_path)\n",
    "\n",
    "print(\"Dataset split into train, validation, and test sets in Filtered_DATASET.\")"
   ]
  }
 ],
 "metadata": {
  "kernelspec": {
   "display_name": "base",
   "language": "python",
   "name": "python3"
  },
  "language_info": {
   "codemirror_mode": {
    "name": "ipython",
    "version": 3
   },
   "file_extension": ".py",
   "mimetype": "text/x-python",
   "name": "python",
   "nbconvert_exporter": "python",
   "pygments_lexer": "ipython3",
   "version": "3.11.5"
  }
 },
 "nbformat": 4,
 "nbformat_minor": 5
}
