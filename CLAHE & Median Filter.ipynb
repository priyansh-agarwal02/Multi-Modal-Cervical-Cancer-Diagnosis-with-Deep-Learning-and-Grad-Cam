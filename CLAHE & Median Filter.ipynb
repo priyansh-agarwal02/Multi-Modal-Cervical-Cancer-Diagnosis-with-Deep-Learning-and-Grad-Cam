{
 "cells": [
  {
   "cell_type": "code",
   "execution_count": 15,
   "metadata": {},
   "outputs": [
    {
     "name": "stdout",
     "output_type": "stream",
     "text": [
      "Noise removal and PNG conversion completed for all classes.\n"
     ]
    }
   ],
   "source": [
    "import tensorflow as tf\n",
    "import cv2\n",
    "import os\n",
    "\n",
    "# Base directories for train and test datasets\n",
    "base_dirs = {\n",
    "    'train': 'Herlev dataset/train',\n",
    "    'test': 'Herlev dataset/test'\n",
    "}\n",
    "\n",
    "# Define the classes\n",
    "classes = [\n",
    "    'carcinoma_in_situ',\n",
    "    'light_dysplastic',\n",
    "    'moderate_dysplastic',\n",
    "    'normal_columnar',\n",
    "    'normal_intermediate',\n",
    "    'normal_superficiel',\n",
    "    'severe_dysplastic'\n",
    "]\n",
    "\n",
    "# Define the CLAHE filter function\n",
    "def clahe_filter(image):\n",
    "    # Apply median filter\n",
    "    image_median = cv2.medianBlur(image, 3)  # Adjust the kernel size as needed\n",
    "\n",
    "    # Apply CLAHE filter to the median filtered image\n",
    "    clahe = cv2.createCLAHE(clipLimit=2.0, tileGridSize=(8, 8))\n",
    "    lab = cv2.cvtColor(image_median, cv2.COLOR_RGB2LAB)\n",
    "    lab_planes = cv2.split(lab)\n",
    "    lab_planes_list = list(lab_planes)\n",
    "    lab_planes_list[0] = clahe.apply(lab_planes_list[0])\n",
    "    lab = cv2.merge(lab_planes_list)\n",
    "    filtered_image = cv2.cvtColor(lab, cv2.COLOR_LAB2RGB)\n",
    "    \n",
    "    return filtered_image\n",
    "\n",
    "# Iterate over each dataset type (train and test)\n",
    "for dataset_type, base_dir in base_dirs.items():\n",
    "    for class_name in classes:\n",
    "        # Path to the directory containing the images for the current class\n",
    "        dataset_dir = os.path.join(base_dir, class_name)\n",
    "\n",
    "        # Create a directory to save the filtered images\n",
    "        output_dir = f'Median and clahe Filters/{dataset_type}/{class_name}_MC_filter'\n",
    "        os.makedirs(output_dir, exist_ok=True)\n",
    "\n",
    "        # List all image files in the dataset directory\n",
    "        image_files = [os.path.join(dataset_dir, filename) for filename in os.listdir(dataset_dir) if filename.lower().endswith('.bmp')]\n",
    "\n",
    "        # Apply CLAHE filtering to each image, convert to PNG, and save the filtered images\n",
    "        for image_file in image_files:\n",
    "            # Load the image using OpenCV\n",
    "            image = cv2.imread(image_file)\n",
    "\n",
    "            # Convert the image to RGB (OpenCV reads images in BGR format)\n",
    "            image_rgb = cv2.cvtColor(image, cv2.COLOR_BGR2RGB)\n",
    "\n",
    "            # Apply CLAHE filtering\n",
    "            filtered_image = clahe_filter(image_rgb)\n",
    "\n",
    "            # Get the file name without extension\n",
    "            filename = os.path.splitext(os.path.basename(image_file))[0]\n",
    "\n",
    "            # Save the filtered image as PNG format\n",
    "            output_file = os.path.join(output_dir, f'{filename}_filtered.png')\n",
    "            cv2.imwrite(output_file, filtered_image)\n",
    "\n",
    "print(\"Noise removal and PNG conversion completed for all classes.\")"
   ]
  },
  {
   "cell_type": "code",
   "execution_count": null,
   "metadata": {},
   "outputs": [],
   "source": []
  }
 ],
 "metadata": {
  "kernelspec": {
   "display_name": "base",
   "language": "python",
   "name": "python3"
  },
  "language_info": {
   "codemirror_mode": {
    "name": "ipython",
    "version": 3
   },
   "file_extension": ".py",
   "mimetype": "text/x-python",
   "name": "python",
   "nbconvert_exporter": "python",
   "pygments_lexer": "ipython3",
   "version": "3.11.5"
  }
 },
 "nbformat": 4,
 "nbformat_minor": 2
}
